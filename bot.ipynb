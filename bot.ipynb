{
 "cells": [
  {
   "attachments": {},
   "cell_type": "markdown",
   "id": "b7a8b68f",
   "metadata": {},
   "source": [
    "## Data literacy\n",
    "\n",
    "Machine Learning in Science, University of Tübingen, Winter Semester 2022\n"
   ]
  },
  {
   "attachments": {},
   "cell_type": "markdown",
   "id": "45ad3279",
   "metadata": {},
   "source": [
    "Applying the concepts of *entropy* and *information* to create a bot that can play [Wordle](https://www.nytimes.com/games/wordle/index.html).\n",
    "\n",
    "Wordle is a word game created by Josh Wardle and published by The New York Times. In the game, one has six attempts to guess the five-letter daily word. During each attempt one has to propose a valid five-letter word. After proposing a word you will receive feedback in the form of a pattern of colored tiles. Green indicates a matching letter, yellow indicates a match - but in the wrong spot, and grey indicates that the guessed letter is not in the daily word. For example:\n",
    "\n",
    "you guessed: TABOO\n",
    "\n",
    "⬛⬛🟩⬛⬛\n",
    "\n",
    "B is in the daily word and in the correct spot.\n",
    "\n",
    "\n",
    "You guessed: QUACK\n",
    "\n",
    "⬛🟨⬛⬛⬛\n",
    "\n",
    "U is in the daily word but in a different spot."
   ]
  },
  {
   "attachments": {},
   "cell_type": "markdown",
   "id": "7313197b",
   "metadata": {},
   "source": [
    "This project is inspired by [3Blue1Brown's video](https://youtu.be/v68zYyaEmEA). "
   ]
  },
  {
   "cell_type": "code",
   "execution_count": 2,
   "id": "7e2ab4f8",
   "metadata": {},
   "outputs": [],
   "source": [
    "import numpy as np\n",
    "import matplotlib.pyplot as plt\n",
    "from utils import *\n",
    "import os\n",
    "import math"
   ]
  },
  {
   "attachments": {},
   "cell_type": "markdown",
   "id": "ab99dd2d",
   "metadata": {},
   "source": [
    "### Loading the data\n",
    "\n",
    "The *wordle_reduced_dataset.txt* file contains a subset of the words used in the actual game, so that the code runs quickly."
   ]
  },
  {
   "cell_type": "code",
   "execution_count": 3,
   "id": "8f3f2db9",
   "metadata": {},
   "outputs": [
    {
     "name": "stdout",
     "output_type": "stream",
     "text": [
      "['aback', 'acrid', 'afoot', 'alarm', 'alone', 'ample', 'anvil', 'armor', 'attic', 'awoke', 'barge', 'beady', 'belly', 'billy', 'blaze', 'blond', 'bonus', 'bowel', 'breed', 'brook', 'bully', 'cabin', 'canon', 'cease', 'chasm', 'china', 'cinch', 'cleft', 'clown', 'conch', 'covet', 'crazy', 'crime', 'crump', 'cynic', 'debut', 'dense', 'dingy', 'donor', 'drape', 'drool', 'dusty', 'eclat', 'elite', 'enter', 'ethic', 'extol', 'fault', 'fetid', 'filmy', 'flame', 'flood', 'flyer', 'forum', 'fritz', 'furor', 'gawky', 'girth', 'glory', 'goose', 'grate', 'groin', 'guest', 'hairy', 'haven', 'heron', 'horse', 'hurry', 'igloo', 'inlet', 'jerky', 'junto', 'knelt', 'lapse', 'learn', 'lever', 'llama', 'lousy', 'lusty', 'mambo', 'mason', 'melee', 'mince', 'molar', 'mound', 'murky', 'neigh', 'noise', 'occur', 'onset', 'ovary', 'panic', 'patty', 'perky', 'pinch', 'plait', 'plush', 'pound', 'prism', 'pubic', 'quack', 'quiet', 'raise', 'razor', 'refit', 'resin', 'rinse', 'roger', 'ruder', 'salty', 'savvy', 'scone', 'sedan', 'shade', 'shave', 'shirk', 'shrub', 'siren', 'slang', 'sloop', 'smell', 'snarl', 'soggy', 'spare', 'spied', 'spook', 'stack', 'start', 'stiff', 'stoop', 'stump', 'surge', 'swill', 'taboo', 'tarot', 'tenth', 'thigh', 'tiara', 'token', 'tower', 'trend', 'truck', 'turbo', 'umbra', 'untie', 'vague', 'verso', 'vital', 'wager', 'weigh', 'whiny', 'wince', 'world', 'write']\n"
     ]
    }
   ],
   "source": [
    "file = 'wordle_reduced_dataset.txt'\n",
    "\n",
    "def load_data(file):\n",
    "    \"\"\"\n",
    "    Loads a .txt file to a list\n",
    "    \"\"\"\n",
    "    with open(file) as f:\n",
    "        word_list = [ word.splitlines()[0] for word in f.readlines() ]\n",
    "    return word_list\n",
    "\n",
    "word_list = load_data(file)\n",
    "print(word_list)"
   ]
  },
  {
   "cell_type": "markdown",
   "id": "98b1871b",
   "metadata": {},
   "source": [
    "### What is the initial entropy?"
   ]
  },
  {
   "attachments": {},
   "cell_type": "markdown",
   "id": "d7d82ab0",
   "metadata": {},
   "source": [
    "The definition of entropy $H(X)$ for a discrete random variable $X$ is the expected amount of information content: $\\mathbb{E}[I(X)]$. Here, the information content $I(X)$ is defined as : $I(X) = \\log_2\\left(\\frac{1}{p(X)}\\right)$.\n",
    "\n",
    "**Calculating the initial entropy using this dataset**. Assumption: each word in the dataset to be equaly likely to be the daily word."
   ]
  },
  {
   "cell_type": "code",
   "execution_count": 17,
   "id": "6801c97c",
   "metadata": {},
   "outputs": [
    {
     "name": "stdout",
     "output_type": "stream",
     "text": [
      "7.266786540694903\n"
     ]
    }
   ],
   "source": [
    "entropy_word_list = len(word_list) * (-1) * math.log(1/len(word_list),2) * 1/len(word_list)\n",
    "print(entropy_word_list)"
   ]
  },
  {
   "attachments": {},
   "cell_type": "markdown",
   "id": "922c4b90",
   "metadata": {},
   "source": [
    "### Reducing the entropy\n",
    "This wordle bot will try to make guesses that reduce the entropy as much as possible. We will do this by calculating the expected information gain for each possible word in our dataset and subsequently pick the best candidate word."
   ]
  },
  {
   "cell_type": "markdown",
   "id": "81cd34dc",
   "metadata": {},
   "source": [
    "\n",
    "When we propose a 5 letter word in the wordle game, we receive a pattern (e.g.: ⬛🟩⬛🟩⬛, or ⬛🟨🟩⬛⬛). \n",
    "\n",
    "**How many possible patterns are there?**"
   ]
  },
  {
   "cell_type": "code",
   "execution_count": 18,
   "id": "2159f472",
   "metadata": {},
   "outputs": [
    {
     "name": "stdout",
     "output_type": "stream",
     "text": [
      "243\n"
     ]
    }
   ],
   "source": [
    "n_patterns = 3**5\n",
    "print(n_patterns)"
   ]
  },
  {
   "cell_type": "markdown",
   "id": "956605ca",
   "metadata": {},
   "source": [
    "We will associate each pattern with an index ranging from *0* to *n_patterns-1*. If you want to know what the pattern for a given index looks like you can call the *patterns_to_string* function()"
   ]
  },
  {
   "cell_type": "code",
   "execution_count": 19,
   "id": "8f2c7643",
   "metadata": {},
   "outputs": [
    {
     "name": "stdout",
     "output_type": "stream",
     "text": [
      "⬛🟨⬛🟨⬛\n"
     ]
    }
   ],
   "source": [
    "pattern_index = 30\n",
    "print(patterns_to_string([pattern_index]))"
   ]
  },
  {
   "cell_type": "markdown",
   "id": "e46b9b18",
   "metadata": {},
   "source": [
    "After proposing a word and receiving a pattern of colored tiles, we can reduce the size of our dataset - we can simply discard all the words that are not consistent with this pattern / word combination! \n",
    "\n",
    "However we do not know what pattern we receive before proposing a word. What we can however calculate, is the probability of receiving each possible pattern (given that we have a list of possible words). We can then use this to calculate the expected information (entropy) gain for the proposed word."
   ]
  },
  {
   "cell_type": "markdown",
   "id": "172ab5ee",
   "metadata": {},
   "source": [
    "We included the function *get_pattern_distributions()* that given a (list of) proposed word(s) and a list all the possible words, returns how often each pattern occurs. We included an example call using the word 'ethic'\n",
    "\n",
    "**Assume our proposed word is 'ethic'. Create a bar plot with the x axis as the pattern indices and the y axis as the number of occurrences of each pattern. Do you see any structure? Explain why this arises.**"
   ]
  },
  {
   "cell_type": "code",
   "execution_count": 28,
   "id": "543aa38e",
   "metadata": {},
   "outputs": [
    {
     "name": "stdout",
     "output_type": "stream",
     "text": [
      "243\n"
     ]
    },
    {
     "data": {
      "image/png": "[encoded data removed]",
      "text/plain": [
       "<Figure size 2000x1000 with 1 Axes>"
      ]
     },
     "metadata": {},
     "output_type": "display_data"
    }
   ],
   "source": [
    "pattern_dist_ethic = get_pattern_distributions(['ethic'], word_list)[0]\n",
    "print(len(pattern_dist_ethic))\n",
    "plt.figure(figsize = (20, 10))\n",
    "plt.bar(np.arange(0, len(pattern_dist_ethic)), pattern_dist_ethic)\n",
    "plt.xlabel(\"Pattern Indices\")\n",
    "plt.ylabel(\"Number of occurences of each pattern\")\n",
    "plt.show()\n",
    "\n",
    "# The structure can be explained by the fact that different patterns occur in cluster of the different combinations of their own. So as soon as the pattern \n",
    "# changes drastically, a new structure begins to form. Hence different cluster form on the grand scale."
   ]
  },
  {
   "cell_type": "markdown",
   "id": "33318c7b",
   "metadata": {},
   "source": [
    "**Use the pattern distribution above to calculate the expected information gain for the word 'ethic'.** Note that there are quite some patterns that occur with zero probability. To handle numerical errors in the computation of entropy, assume that $-p(x)\\log(p(x)) = 0$ when $p(x) = 0$."
   ]
  },
  {
   "cell_type": "code",
   "execution_count": 21,
   "id": "6ae984de",
   "metadata": {},
   "outputs": [
    {
     "name": "stdout",
     "output_type": "stream",
     "text": [
      "2.143809477104211\n"
     ]
    }
   ],
   "source": [
    "def entropy(patterns_dist):\n",
    "    \"\"\"\n",
    "    Calculates the expected information given a distribution of patterns\n",
    "    \"\"\"\n",
    "    entropy = 0\n",
    "    for i in patterns_dist:\n",
    "        if i != 0:\n",
    "            entropy += -1 * i/len(patterns_dist) * math.log(i/len(patterns_dist))\n",
    "    return entropy\n",
    "\n",
    "entropy_ethic = entropy(pattern_dist_ethic)\n",
    "print(entropy_ethic)\n"
   ]
  },
  {
   "cell_type": "markdown",
   "id": "b414e587",
   "metadata": {},
   "source": [
    "### Creating the wordle bot\n",
    "\n",
    "Now we are ready to create a bot that can play wordle! **Complete the best_pick() function**. Your bot can call any of the functions we previously used."
   ]
  },
  {
   "cell_type": "code",
   "execution_count": 22,
   "id": "917c7b76",
   "metadata": {},
   "outputs": [],
   "source": [
    "class Wordle_bot():\n",
    "    \n",
    "    def __init__(self, word_list):\n",
    "        \"\"\"\n",
    "        Initialize a Wordle bot\n",
    "        \n",
    "        Args:\n",
    "            word_list: list of words that can be used in the wordle game\n",
    "        \"\"\"\n",
    "        \n",
    "        # stores all words in our dataset\n",
    "        self.initial_word_list = word_list.copy()\n",
    "        \n",
    "        # keeps track of all currently allowed words\n",
    "        # this list should get shorter as the game progresses\n",
    "        self.allowed_word_list = word_list.copy() \n",
    "    \n",
    "    def reset(self):\n",
    "        \"\"\"\n",
    "        Resets the bot, all words in the dataset are possible again\n",
    "        \"\"\"\n",
    "        \n",
    "        self.allowed_word_list = self.initial_word_list.copy()\n",
    "    \n",
    "    def initialize_for_next_round(self, allowed_word_list):\n",
    "        \"\"\"\n",
    "        Sets the allowed word list, use after making a guess\n",
    "        \n",
    "        Args:\n",
    "            allowed_word_list: list of words that are still possible answers\n",
    "        \"\"\"\n",
    "        \n",
    "        self.allowed_word_list = allowed_word_list.copy()\n",
    "        \n",
    "        \n",
    "    def best_pick(self):\n",
    "        \"\"\"\n",
    "        Picks the word with the highest expected information gain.\n",
    "        \n",
    "        Returns:\n",
    "            best_word: string, word with highest expected information\n",
    "            \n",
    "        \"\"\"\n",
    "        best_entropy_yet = 0\n",
    "        best_word = \"\"\n",
    "        for a_word in self.allowed_word_list:\n",
    "            pd_a_word = get_pattern_distributions([a_word], self.allowed_word_list)[0]\n",
    "            entropy_a_word = entropy(pd_a_word)\n",
    "            if entropy_a_word > best_entropy_yet:\n",
    "                best_entropy_yet = entropy_a_word\n",
    "                best_word = a_word\n",
    "        return best_word"
   ]
  },
  {
   "cell_type": "markdown",
   "id": "49a91b99",
   "metadata": {},
   "source": [
    "**Initialize a bot and find out what is the best word to start a game with** (for this dataset)"
   ]
  },
  {
   "cell_type": "code",
   "execution_count": 23,
   "id": "892573ef",
   "metadata": {},
   "outputs": [
    {
     "name": "stdout",
     "output_type": "stream",
     "text": [
      "raise\n"
     ]
    }
   ],
   "source": [
    "bot = Wordle_bot(word_list)\n",
    "print(bot.best_pick())"
   ]
  },
  {
   "cell_type": "markdown",
   "id": "8363f7c5",
   "metadata": {},
   "source": [
    "### Play a single round\n",
    "\n",
    "**Complete the code below to allow your bot to play a single round of the game** "
   ]
  },
  {
   "cell_type": "code",
   "execution_count": 24,
   "id": "c2ec04ca",
   "metadata": {},
   "outputs": [
    {
     "name": "stdout",
     "output_type": "stream",
     "text": [
      "\n",
      "Score: 3\n",
      "Answer: igloo\n",
      "Guesses: ['raise', 'billy', 'igloo']\n",
      "Reductions: [8, 1, 1]\n",
      "⬛⬛🟨⬛⬛\n",
      "⬛🟨🟩⬛⬛\n",
      "🟩🟩🟩🟩🟩\n",
      "🟩🟩🟩🟩🟩\n",
      " \n",
      " \n",
      " \n",
      " \n",
      " \n"
     ]
    }
   ],
   "source": [
    "bot.reset() # reset the bot before playing a round\n",
    "answer = word_list[np.random.randint(len(word_list))] # pick a random daily word\n",
    "\n",
    "round_n=1\n",
    "guesses=[]\n",
    "score=0\n",
    "possibility_counts=[]\n",
    "patterns = []\n",
    "guess = \"\"\n",
    "while guess != answer and round_n <6:\n",
    "    guess = bot.best_pick()\n",
    "    pattern = get_pattern(guess, answer)\n",
    "    possibilities = get_possible_words(guess, pattern, bot.allowed_word_list)\n",
    "    bot.initialize_for_next_round(possibilities)\n",
    "\n",
    "    patterns.append(pattern)\n",
    "    guesses.append(guess)    \n",
    "    possibility_counts.append(len(possibilities))\n",
    "    score += 1\n",
    "    round_n+=1\n",
    "\n",
    "print(\"\\n\".join([\n",
    "    \"\",\n",
    "    f\"Score: {score}\",\n",
    "    f\"Answer: {answer}\",\n",
    "    f\"Guesses: {guesses}\",\n",
    "    f\"Reductions: {possibility_counts}\",\n",
    "    *patterns_to_string((*patterns, 3**5 - 1)).split(\"\\n\"),\n",
    "    *\" \" * (6 - len(patterns)),\n",
    "    *\" \" * 2,\n",
    "]))\n"
   ]
  },
  {
   "cell_type": "markdown",
   "id": "acdedaf0",
   "metadata": {},
   "source": [
    "### Play all the rounds\n",
    "\n",
    "Once you are confident the bot is working properly, you can use it to play through all possible rounds. **How many attempts does it need to get the right word, on average?** "
   ]
  },
  {
   "cell_type": "code",
   "execution_count": 25,
   "id": "298e5f03",
   "metadata": {},
   "outputs": [
    {
     "name": "stdout",
     "output_type": "stream",
     "text": [
      "{'score_distribution': [1, 61, 86, 6], 'total_guesses': 405, 'average_score': 2.6298701298701297, 'game_results': [{'score': 2, 'answer': 'aback', 'guesses': ['raise'], 'patterns': [3], 'reductions': [4]}, {'score': 2, 'answer': 'acrid', 'guesses': ['raise'], 'patterns': [13], 'reductions': [2]}, {'score': 3, 'answer': 'afoot', 'guesses': ['raise', 'aback'], 'patterns': [3, 2], 'reductions': [4, 1]}, {'score': 2, 'answer': 'alarm', 'guesses': ['raise'], 'patterns': [4], 'reductions': [6]}, {'score': 3, 'answer': 'alone', 'guesses': ['raise', 'ample'], 'patterns': [165, 191], 'reductions': [5, 1]}, {'score': 2, 'answer': 'ample', 'guesses': ['raise'], 'patterns': [165], 'reductions': [5]}, {'score': 2, 'answer': 'anvil', 'guesses': ['raise'], 'patterns': [12], 'reductions': [4]}, {'score': 3, 'answer': 'armor', 'guesses': ['raise', 'alarm'], 'patterns': [4, 110], 'reductions': [6, 1]}, {'score': 3, 'answer': 'attic', 'guesses': ['raise', 'anvil'], 'patterns': [12, 56], 'reductions': [4, 1]}, {'score': 3, 'answer': 'awoke', 'guesses': ['raise', 'ample'], 'patterns': [165, 164], 'reductions': [5, 1]}, {'score': 2, 'answer': 'barge', 'guesses': ['raise'], 'patterns': [169], 'reductions': [1]}, {'score': 2, 'answer': 'beady', 'guesses': ['raise'], 'patterns': [84], 'reductions': [2]}, {'score': 3, 'answer': 'belly', 'guesses': ['raise', 'token'], 'patterns': [81, 27], 'reductions': [9, 1]}, {'score': 2, 'answer': 'billy', 'guesses': ['raise'], 'patterns': [9], 'reductions': [8]}, {'score': 3, 'answer': 'blaze', 'guesses': ['raise', 'ample'], 'patterns': [165, 190], 'reductions': [5, 1]}, {'score': 3, 'answer': 'blond', 'guesses': ['raise', 'mound'], 'patterns': [0, 219], 'reductions': [8, 1]}, {'score': 3, 'answer': 'bonus', 'guesses': ['raise', 'lusty'], 'patterns': [27, 12], 'reductions': [8, 1]}, {'score': 3, 'answer': 'bowel', 'guesses': ['raise', 'token'], 'patterns': [81, 60], 'reductions': [9, 1]}, {'score': 3, 'answer': 'breed', 'guesses': ['raise', 'enter'], 'patterns': [82, 136], 'reductions': [9, 1]}, {'score': 3, 'answer': 'brook', 'guesses': ['raise', 'furor'], 'patterns': [1, 63], 'reductions': [13, 2]}, {'score': 3, 'answer': 'bully', 'guesses': ['raise', 'mound'], 'patterns': [0, 9], 'reductions': [8, 1]}, {'score': 2, 'answer': 'cabin', 'guesses': ['raise'], 'patterns': [15], 'reductions': [2]}, {'score': 3, 'answer': 'canon', 'guesses': ['raise', 'taboo'], 'patterns': [6, 60], 'reductions': [6, 1]}, {'score': 2, 'answer': 'cease', 'guesses': ['raise'], 'patterns': [219], 'reductions': [1]}, {'score': 2, 'answer': 'chasm', 'guesses': ['raise'], 'patterns': [57], 'reductions': [1]}, {'score': 2, 'answer': 'china', 'guesses': ['raise'], 'patterns': [21], 'reductions': [1]}, {'score': 3, 'answer': 'cinch', 'guesses': ['raise', 'billy'], 'patterns': [9, 6], 'reductions': [8, 2]}, {'score': 3, 'answer': 'cleft', 'guesses': ['raise', 'token'], 'patterns': [81, 28], 'reductions': [9, 2]}, {'score': 3, 'answer': 'clown', 'guesses': ['raise', 'mound'], 'patterns': [0, 30], 'reductions': [8, 1]}, {'score': 3, 'answer': 'conch', 'guesses': ['raise', 'mound'], 'patterns': [0, 33], 'reductions': [8, 1]}, {'score': 3, 'answer': 'covet', 'guesses': ['raise', 'token'], 'patterns': [81, 61], 'reductions': [9, 1]}, {'score': 3, 'answer': 'crazy', 'guesses': ['raise', 'alarm'], 'patterns': [4, 45], 'reductions': [6, 1]}, {'score': 2, 'answer': 'crime', 'guesses': ['raise'], 'patterns': [181], 'reductions': [2]}, {'score': 3, 'answer': 'crump', 'guesses': ['raise', 'furor'], 'patterns': [1, 12], 'reductions': [13, 2]}, {'score': 3, 'answer': 'cynic', 'guesses': ['raise', 'billy'], 'patterns': [9, 84], 'reductions': [8, 1]}, {'score': 4, 'answer': 'debut', 'guesses': ['raise', 'token', 'cleft'], 'patterns': [81, 28, 171], 'reductions': [9, 2, 1]}, {'score': 2, 'answer': 'dense', 'guesses': ['raise'], 'patterns': [216], 'reductions': [2]}, {'score': 3, 'answer': 'dingy', 'guesses': ['raise', 'billy'], 'patterns': [9, 168], 'reductions': [8, 1]}, {'score': 3, 'answer': 'donor', 'guesses': ['raise', 'furor'], 'patterns': [1, 216], 'reductions': [13, 1]}, {'score': 2, 'answer': 'drape', 'guesses': ['raise'], 'patterns': [166], 'reductions': [2]}, {'score': 4, 'answer': 'drool', 'guesses': ['raise', 'furor', 'brook'], 'patterns': [1, 63, 78], 'reductions': [13, 2, 1]}, {'score': 3, 'answer': 'dusty', 'guesses': ['raise', 'lusty'], 'patterns': [27, 240], 'reductions': [8, 1]}, {'score': 3, 'answer': 'eclat', 'guesses': ['raise', 'beady'], 'patterns': [84, 12], 'reductions': [2, 1]}, {'score': 2, 'answer': 'elite', 'guesses': ['raise'], 'patterns': [180], 'reductions': [1]}, {'score': 2, 'answer': 'enter', 'guesses': ['raise'], 'patterns': [82], 'reductions': [9]}, {'score': 2, 'answer': 'ethic', 'guesses': ['raise'], 'patterns': [90], 'reductions': [3]}, {'score': 3, 'answer': 'extol', 'guesses': ['raise', 'token'], 'patterns': [81, 31], 'reductions': [9, 1]}, {'score': 3, 'answer': 'fault', 'guesses': ['raise', 'taboo'], 'patterns': [6, 7], 'reductions': [6, 2]}, {'score': 3, 'answer': 'fetid', 'guesses': ['raise', 'ethic'], 'patterns': [90, 58], 'reductions': [3, 1]}, {'score': 3, 'answer': 'filmy', 'guesses': ['raise', 'billy'], 'patterns': [9, 186], 'reductions': [8, 1]}, {'score': 3, 'answer': 'flame', 'guesses': ['raise', 'ample'], 'patterns': [165, 193], 'reductions': [5, 1]}, {'score': 3, 'answer': 'flood', 'guesses': ['raise', 'mound'], 'patterns': [0, 165], 'reductions': [8, 1]}, {'score': 3, 'answer': 'flyer', 'guesses': ['raise', 'enter'], 'patterns': [82, 216], 'reductions': [9, 1]}, {'score': 3, 'answer': 'forum', 'guesses': ['raise', 'furor'], 'patterns': [1, 50], 'reductions': [13, 1]}, {'score': 2, 'answer': 'fritz', 'guesses': ['raise'], 'patterns': [19], 'reductions': [1]}, {'score': 2, 'answer': 'furor', 'guesses': ['raise'], 'patterns': [1], 'reductions': [13]}, {'score': 3, 'answer': 'gawky', 'guesses': ['raise', 'taboo'], 'patterns': [6, 6], 'reductions': [6, 1]}, {'score': 2, 'answer': 'girth', 'guesses': ['raise'], 'patterns': [10], 'reductions': [2]}, {'score': 3, 'answer': 'glory', 'guesses': ['raise', 'furor'], 'patterns': [1, 36], 'reductions': [13, 1]}, {'score': 3, 'answer': 'goose', 'guesses': ['raise', 'dense'], 'patterns': [216, 216], 'reductions': [2, 1]}, {'score': 3, 'answer': 'grate', 'guesses': ['raise', 'drape'], 'patterns': [166, 186], 'reductions': [2, 1]}, {'score': 3, 'answer': 'groin', 'guesses': ['raise', 'girth'], 'patterns': [10, 14], 'reductions': [2, 1]}, {'score': 2, 'answer': 'guest', 'guesses': ['raise'], 'patterns': [135], 'reductions': [1]}, {'score': 2, 'answer': 'hairy', 'guesses': ['raise'], 'patterns': [25], 'reductions': [1]}, {'score': 2, 'answer': 'haven', 'guesses': ['raise'], 'patterns': [87], 'reductions': [1]}, {'score': 3, 'answer': 'heron', 'guesses': ['raise', 'enter'], 'patterns': [82, 85], 'reductions': [9, 1]}, {'score': 2, 'answer': 'horse', 'guesses': ['raise'], 'patterns': [217], 'reductions': [1]}, {'score': 3, 'answer': 'hurry', 'guesses': ['raise', 'furor'], 'patterns': [1, 105], 'reductions': [13, 1]}, {'score': 3, 'answer': 'igloo', 'guesses': ['raise', 'billy'], 'patterns': [9, 21], 'reductions': [8, 1]}, {'score': 3, 'answer': 'inlet', 'guesses': ['raise', 'ethic'], 'patterns': [90, 31], 'reductions': [3, 1]}, {'score': 3, 'answer': 'jerky', 'guesses': ['raise', 'enter'], 'patterns': [82, 82], 'reductions': [9, 2]}, {'score': 3, 'answer': 'junto', 'guesses': ['raise', 'mound'], 'patterns': [0, 39], 'reductions': [8, 1]}, {'score': 3, 'answer': 'knelt', 'guesses': ['raise', 'token'], 'patterns': [81, 118], 'reductions': [9, 1]}, {'score': 2, 'answer': 'lapse', 'guesses': ['raise'], 'patterns': [222], 'reductions': [1]}, {'score': 2, 'answer': 'learn', 'guesses': ['raise'], 'patterns': [85], 'reductions': [1]}, {'score': 3, 'answer': 'lever', 'guesses': ['raise', 'enter'], 'patterns': [82, 217], 'reductions': [9, 1]}, {'score': 3, 'answer': 'llama', 'guesses': ['raise', 'aback'], 'patterns': [3, 19], 'reductions': [4, 1]}, {'score': 2, 'answer': 'lousy', 'guesses': ['raise'], 'patterns': [54], 'reductions': [2]}, {'score': 2, 'answer': 'lusty', 'guesses': ['raise'], 'patterns': [27], 'reductions': [8]}, {'score': 3, 'answer': 'mambo', 'guesses': ['raise', 'taboo'], 'patterns': [6, 177], 'reductions': [6, 1]}, {'score': 3, 'answer': 'mason', 'guesses': ['raise', 'salty'], 'patterns': [33, 7], 'reductions': [3, 1]}, {'score': 2, 'answer': 'melee', 'guesses': ['raise'], 'patterns': [162], 'reductions': [1]}, {'score': 2, 'answer': 'mince', 'guesses': ['raise'], 'patterns': [171], 'reductions': [3]}, {'score': 3, 'answer': 'molar', 'guesses': ['raise', 'alarm'], 'patterns': [4, 112], 'reductions': [6, 1]}, {'score': 2, 'answer': 'mound', 'guesses': ['raise'], 'patterns': [0], 'reductions': [8]}, {'score': 3, 'answer': 'murky', 'guesses': ['raise', 'furor'], 'patterns': [1, 24], 'reductions': [13, 1]}, {'score': 2, 'answer': 'neigh', 'guesses': ['raise'], 'patterns': [99], 'reductions': [3]}, {'score': 2, 'answer': 'noise', 'guesses': ['raise'], 'patterns': [234], 'reductions': [1]}, {'score': 3, 'answer': 'occur', 'guesses': ['raise', 'furor'], 'patterns': [1, 192], 'reductions': [13, 1]}, {'score': 2, 'answer': 'onset', 'guesses': ['raise'], 'patterns': [108], 'reductions': [2]}, {'score': 3, 'answer': 'ovary', 'guesses': ['raise', 'alarm'], 'patterns': [4, 72], 'reductions': [6, 1]}, {'score': 3, 'answer': 'panic', 'guesses': ['raise', 'cabin'], 'patterns': [15, 142], 'reductions': [2, 1]}, {'score': 4, 'answer': 'patty', 'guesses': ['raise', 'taboo', 'fault'], 'patterns': [6, 7, 87], 'reductions': [6, 2, 1]}, {'score': 4, 'answer': 'perky', 'guesses': ['raise', 'enter', 'jerky'], 'patterns': [82, 82, 240], 'reductions': [9, 2, 1]}, {'score': 4, 'answer': 'pinch', 'guesses': ['raise', 'billy', 'cinch'], 'patterns': [9, 6, 240], 'reductions': [8, 2, 1]}, {'score': 3, 'answer': 'plait', 'guesses': ['raise', 'anvil'], 'patterns': [12, 136], 'reductions': [4, 1]}, {'score': 3, 'answer': 'plush', 'guesses': ['raise', 'lousy'], 'patterns': [54, 73], 'reductions': [2, 1]}, {'score': 3, 'answer': 'pound', 'guesses': ['raise', 'mound'], 'patterns': [0, 240], 'reductions': [8, 1]}, {'score': 2, 'answer': 'prism', 'guesses': ['raise'], 'patterns': [73], 'reductions': [1]}, {'score': 3, 'answer': 'pubic', 'guesses': ['raise', 'billy'], 'patterns': [9, 4], 'reductions': [8, 1]}, {'score': 3, 'answer': 'quack', 'guesses': ['raise', 'aback'], 'patterns': [3, 234], 'reductions': [4, 1]}, {'score': 3, 'answer': 'quiet', 'guesses': ['raise', 'neigh'], 'patterns': [99, 21], 'reductions': [3, 1]}, {'score': 1, 'answer': 'raise', 'guesses': [], 'patterns': [], 'reductions': []}, {'score': 2, 'answer': 'razor', 'guesses': ['raise'], 'patterns': [8], 'reductions': [1]}, {'score': 2, 'answer': 'refit', 'guesses': ['raise'], 'patterns': [92], 'reductions': [1]}, {'score': 2, 'answer': 'resin', 'guesses': ['raise'], 'patterns': [119], 'reductions': [1]}, {'score': 2, 'answer': 'rinse', 'guesses': ['raise'], 'patterns': [227], 'reductions': [1]}, {'score': 2, 'answer': 'roger', 'guesses': ['raise'], 'patterns': [83], 'reductions': [2]}, {'score': 3, 'answer': 'ruder', 'guesses': ['raise', 'roger'], 'patterns': [83, 218], 'reductions': [2, 1]}, {'score': 2, 'answer': 'salty', 'guesses': ['raise'], 'patterns': [33], 'reductions': [3]}, {'score': 3, 'answer': 'savvy', 'guesses': ['raise', 'salty'], 'patterns': [33, 170], 'reductions': [3, 1]}, {'score': 2, 'answer': 'scone', 'guesses': ['raise'], 'patterns': [189], 'reductions': [1]}, {'score': 2, 'answer': 'sedan', 'guesses': ['raise'], 'patterns': [111], 'reductions': [1]}, {'score': 2, 'answer': 'shade', 'guesses': ['raise'], 'patterns': [192], 'reductions': [2]}, {'score': 3, 'answer': 'shave', 'guesses': ['raise', 'shade'], 'patterns': [192, 188], 'reductions': [2, 1]}, {'score': 2, 'answer': 'shirk', 'guesses': ['raise'], 'patterns': [46], 'reductions': [1]}, {'score': 2, 'answer': 'shrub', 'guesses': ['raise'], 'patterns': [28], 'reductions': [1]}, {'score': 2, 'answer': 'siren', 'guesses': ['raise'], 'patterns': [118], 'reductions': [1]}, {'score': 2, 'answer': 'slang', 'guesses': ['raise'], 'patterns': [30], 'reductions': [2]}, {'score': 3, 'answer': 'sloop', 'guesses': ['raise', 'lusty'], 'patterns': [27, 10], 'reductions': [8, 1]}, {'score': 3, 'answer': 'smell', 'guesses': ['raise', 'onset'], 'patterns': [108, 36], 'reductions': [2, 1]}, {'score': 2, 'answer': 'snarl', 'guesses': ['raise'], 'patterns': [31], 'reductions': [2]}, {'score': 3, 'answer': 'soggy', 'guesses': ['raise', 'lusty'], 'patterns': [27, 171], 'reductions': [8, 1]}, {'score': 2, 'answer': 'spare', 'guesses': ['raise'], 'patterns': [193], 'reductions': [1]}, {'score': 2, 'answer': 'spied', 'guesses': ['raise'], 'patterns': [126], 'reductions': [1]}, {'score': 3, 'answer': 'spook', 'guesses': ['raise', 'lusty'], 'patterns': [27, 9], 'reductions': [8, 1]}, {'score': 3, 'answer': 'stack', 'guesses': ['raise', 'slang'], 'patterns': [30, 20], 'reductions': [2, 1]}, {'score': 3, 'answer': 'start', 'guesses': ['raise', 'snarl'], 'patterns': [31, 74], 'reductions': [2, 1]}, {'score': 2, 'answer': 'stiff', 'guesses': ['raise'], 'patterns': [45], 'reductions': [2]}, {'score': 3, 'answer': 'stoop', 'guesses': ['raise', 'lusty'], 'patterns': [27, 36], 'reductions': [8, 1]}, {'score': 3, 'answer': 'stump', 'guesses': ['raise', 'lusty'], 'patterns': [27, 39], 'reductions': [8, 1]}, {'score': 2, 'answer': 'surge', 'guesses': ['raise'], 'patterns': [190], 'reductions': [1]}, {'score': 3, 'answer': 'swill', 'guesses': ['raise', 'stiff'], 'patterns': [45, 20], 'reductions': [2, 1]}, {'score': 2, 'answer': 'taboo', 'guesses': ['raise'], 'patterns': [6], 'reductions': [6]}, {'score': 2, 'answer': 'tarot', 'guesses': ['raise'], 'patterns': [7], 'reductions': [1]}, {'score': 3, 'answer': 'tenth', 'guesses': ['raise', 'token'], 'patterns': [81, 110], 'reductions': [9, 1]}, {'score': 2, 'answer': 'thigh', 'guesses': ['raise'], 'patterns': [18], 'reductions': [2]}, {'score': 3, 'answer': 'tiara', 'guesses': ['raise', 'acrid'], 'patterns': [13, 37], 'reductions': [2, 1]}, {'score': 2, 'answer': 'token', 'guesses': ['raise'], 'patterns': [81], 'reductions': [9]}, {'score': 3, 'answer': 'tower', 'guesses': ['raise', 'enter'], 'patterns': [82, 225], 'reductions': [9, 1]}, {'score': 3, 'answer': 'trend', 'guesses': ['raise', 'enter'], 'patterns': [82, 94], 'reductions': [9, 1]}, {'score': 4, 'answer': 'truck', 'guesses': ['raise', 'furor', 'crump'], 'patterns': [1, 12, 25], 'reductions': [13, 2, 1]}, {'score': 3, 'answer': 'turbo', 'guesses': ['raise', 'furor'], 'patterns': [1, 51], 'reductions': [13, 1]}, {'score': 3, 'answer': 'umbra', 'guesses': ['raise', 'alarm'], 'patterns': [4, 136], 'reductions': [6, 1]}, {'score': 3, 'answer': 'untie', 'guesses': ['raise', 'mince'], 'patterns': [171, 174], 'reductions': [3, 1]}, {'score': 2, 'answer': 'vague', 'guesses': ['raise'], 'patterns': [168], 'reductions': [1]}, {'score': 2, 'answer': 'verso', 'guesses': ['raise'], 'patterns': [136], 'reductions': [1]}, {'score': 3, 'answer': 'vital', 'guesses': ['raise', 'anvil'], 'patterns': [12, 199], 'reductions': [4, 1]}, {'score': 2, 'answer': 'wager', 'guesses': ['raise'], 'patterns': [88], 'reductions': [1]}, {'score': 3, 'answer': 'weigh', 'guesses': ['raise', 'neigh'], 'patterns': [99, 240], 'reductions': [3, 1]}, {'score': 3, 'answer': 'whiny', 'guesses': ['raise', 'thigh'], 'patterns': [18, 24], 'reductions': [2, 1]}, {'score': 3, 'answer': 'wince', 'guesses': ['raise', 'mince'], 'patterns': [171, 240], 'reductions': [3, 1]}, {'score': 3, 'answer': 'world', 'guesses': ['raise', 'furor'], 'patterns': [1, 45], 'reductions': [13, 1]}, {'score': 3, 'answer': 'write', 'guesses': ['raise', 'crime'], 'patterns': [181, 186], 'reductions': [2, 1]}]}\n"
     ]
    }
   ],
   "source": [
    "final_result=simulate_games(bot, word_list,quiet=True)\n",
    "print(final_result)"
   ]
  },
  {
   "cell_type": "code",
   "execution_count": 27,
   "id": "8e1c21e6",
   "metadata": {},
   "outputs": [
    {
     "name": "stdout",
     "output_type": "stream",
     "text": [
      "2.6298701298701297\n"
     ]
    }
   ],
   "source": [
    "# your code here\n",
    "# Attempts needed on average to get the correct answer\n",
    "print(final_result['average_score'])"
   ]
  }
 ],
 "metadata": {
  "kernelspec": {
   "display_name": "Python 3 (ipykernel)",
   "language": "python",
   "name": "python3"
  },
  "language_info": {
   "codemirror_mode": {
    "name": "ipython",
    "version": 3
   },
   "file_extension": ".py",
   "mimetype": "text/x-python",
   "name": "python",
   "nbconvert_exporter": "python",
   "pygments_lexer": "ipython3",
   "version": "3.8.6"
  },
  "toc": {
   "base_numbering": 1,
   "nav_menu": {},
   "number_sections": true,
   "sideBar": true,
   "skip_h1_title": false,
   "title_cell": "Table of Contents",
   "title_sidebar": "Contents",
   "toc_cell": false,
   "toc_position": {},
   "toc_section_display": true,
   "toc_window_display": false
  },
  "vscode": {
   "interpreter": {
    "hash": "f91a45b51d9cb8d563e3638dd53aff2c01066553b7338a41aaa118ec61ab596b"
   }
  }
 },
 "nbformat": 4,
 "nbformat_minor": 5
}
